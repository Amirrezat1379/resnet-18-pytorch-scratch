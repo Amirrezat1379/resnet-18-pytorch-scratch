{
 "cells": [
  {
   "cell_type": "code",
   "execution_count": null,
   "metadata": {},
   "outputs": [],
   "source": [
    "import torch\n",
    "from EEResnet18 import ResNet, data_loader, ResidualBlock\n",
    "from tqdm import tqdm"
   ]
  },
  {
   "cell_type": "code",
   "execution_count": null,
   "metadata": {},
   "outputs": [],
   "source": [
    "test_loader = data_loader(data_dir='./data',\n",
    "                              batch_size=1,\n",
    "                              test=True, data_model=\"cifar10\")\n",
    "\n",
    "if torch.backends.mps.is_available():\n",
    "    device = \"mps\"\n",
    "elif torch.cuda.is_available():\n",
    "    device = \"cuda\"\n",
    "else:\n",
    "    device = \"cpu\"\n",
    "\n",
    "device = torch.device(device)"
   ]
  },
  {
   "cell_type": "code",
   "execution_count": null,
   "metadata": {},
   "outputs": [],
   "source": [
    "model = ResNet().to(device)\n",
    "model.make_backbone(ResidualBlock, [2, 2, 2, 2], [1, 3], 10)\n",
    "model.set_inference_parameters(True, 0.5)\n",
    "model.load_state_dict(torch.load(\"model/RESNET_18-CIFAR_10-SGD-Early_Exits_on_1st_and_3rd_layer-Cuda.pth\", map_location=device, weights_only=True))\n",
    "model.eval()\n",
    "total_times = 0\n",
    "total_step = len(test_loader)\n",
    "correct = 0\n",
    "total = 0\n",
    "with tqdm(total=total_step) as bar_step:\n",
    "    for i, (images, labels) in enumerate(test_loader):\n",
    "        images = images.to(device)\n",
    "        labels = labels.to(device)\n",
    "        outputs, times_of_exit = model(images)\n",
    "        total_times += times_of_exit\n",
    "        _, predicted = torch.max(outputs.data, 1)\n",
    "        total += labels.size(0)\n",
    "        correct += (predicted == labels).sum().item()\n",
    "        del images, labels, outputs\n",
    "        if (i + 1) % 3 == 0 or i == total_step + 1:\n",
    "            bar_step.set_postfix({\n",
    "                            'Times that image exited earlier': total_times,\n",
    "                            # 'avg_accuracy': total_accuracy / (i + 1),\n",
    "                            # 'max_abs_gradient': np.max(abs(model.weight.grad))\n",
    "                        })\n",
    "            cur_n_batch = i % 3 + 1\n",
    "            bar_step.update(cur_n_batch)\n",
    "\n",
    "    print('Accuracy of the network on the {} test images: {} %'.format(10000, 100 * correct / total))"
   ]
  },
  {
   "cell_type": "code",
   "execution_count": null,
   "metadata": {},
   "outputs": [],
   "source": []
  }
 ],
 "metadata": {
  "kernelspec": {
   "display_name": "Python 3",
   "language": "python",
   "name": "python3"
  },
  "language_info": {
   "codemirror_mode": {
    "name": "ipython",
    "version": 3
   },
   "file_extension": ".py",
   "mimetype": "text/x-python",
   "name": "python",
   "nbconvert_exporter": "python",
   "pygments_lexer": "ipython3",
   "version": "3.10.14"
  }
 },
 "nbformat": 4,
 "nbformat_minor": 2
}
