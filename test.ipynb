{
 "cells": [
  {
   "cell_type": "code",
   "execution_count": 1,
   "metadata": {},
   "outputs": [],
   "source": [
    "from resnet18 import ResNet, ResidualBlock, data_loader\n",
    "import torch\n",
    "import torch.nn as nn\n",
    "import torch.backends\n",
    "import torch.backends.mps\n",
    "import torch.mps"
   ]
  },
  {
   "cell_type": "code",
   "execution_count": 2,
   "metadata": {},
   "outputs": [
    {
     "name": "stdout",
     "output_type": "stream",
     "text": [
      "Files already downloaded and verified\n",
      "Files already downloaded and verified\n",
      "Files already downloaded and verified\n"
     ]
    }
   ],
   "source": [
    "train_loader, valid_loader = data_loader(data_dir='./data',\n",
    "                                         batch_size=64)\n",
    "\n",
    "test_loader = data_loader(data_dir='./data',\n",
    "                              batch_size=64,\n",
    "                              test=True)\n",
    "\n",
    "if torch.backends.mps.is_available():\n",
    "    device = \"mps\"\n",
    "elif torch.cuda.is_available():\n",
    "    device = \"cuda\"\n",
    "else:\n",
    "    device = \"cpu\"\n",
    "\n",
    "device = torch.device(device)"
   ]
  },
  {
   "cell_type": "code",
   "execution_count": 3,
   "metadata": {},
   "outputs": [
    {
     "name": "stdout",
     "output_type": "stream",
     "text": [
      "Epoch [1/20], Loss: 1.5818\n",
      "Accuracy of the network on the 5000 validation images: 62.58 %\n",
      "Epoch [2/20], Loss: 0.2829\n",
      "Accuracy of the network on the 5000 validation images: 72.58 %\n",
      "Epoch [3/20], Loss: 1.7526\n",
      "Accuracy of the network on the 5000 validation images: 77.2 %\n",
      "Epoch [4/20], Loss: 0.4768\n",
      "Accuracy of the network on the 5000 validation images: 80.36 %\n",
      "Epoch [5/20], Loss: 0.6882\n",
      "Accuracy of the network on the 5000 validation images: 81.86 %\n",
      "Epoch [6/20], Loss: 0.7605\n",
      "Accuracy of the network on the 5000 validation images: 80.14 %\n",
      "Epoch [7/20], Loss: 0.8274\n",
      "Accuracy of the network on the 5000 validation images: 81.34 %\n",
      "Epoch [8/20], Loss: 0.0354\n",
      "Accuracy of the network on the 5000 validation images: 82.4 %\n",
      "Epoch [9/20], Loss: 0.0877\n",
      "Accuracy of the network on the 5000 validation images: 83.1 %\n",
      "Epoch [10/20], Loss: 0.5032\n",
      "Accuracy of the network on the 5000 validation images: 82.4 %\n",
      "Epoch [11/20], Loss: 0.2578\n",
      "Accuracy of the network on the 5000 validation images: 82.3 %\n",
      "Epoch [12/20], Loss: 0.0540\n",
      "Accuracy of the network on the 5000 validation images: 82.28 %\n",
      "Epoch [13/20], Loss: 0.2870\n",
      "Accuracy of the network on the 5000 validation images: 83.1 %\n",
      "Epoch [14/20], Loss: 0.0806\n",
      "Accuracy of the network on the 5000 validation images: 83.84 %\n",
      "Epoch [15/20], Loss: 0.1732\n",
      "Accuracy of the network on the 5000 validation images: 82.82 %\n",
      "Epoch [16/20], Loss: 0.0694\n",
      "Accuracy of the network on the 5000 validation images: 83.4 %\n",
      "Epoch [17/20], Loss: 0.0215\n",
      "Accuracy of the network on the 5000 validation images: 82.82 %\n",
      "Epoch [18/20], Loss: 0.0382\n",
      "Accuracy of the network on the 5000 validation images: 82.88 %\n",
      "Epoch [19/20], Loss: 0.3133\n",
      "Accuracy of the network on the 5000 validation images: 81.82 %\n",
      "Epoch [20/20], Loss: 0.7058\n",
      "Accuracy of the network on the 5000 validation images: 82.42 %\n",
      "Accuracy of the network on the 10000 test images: 82.53 %\n"
     ]
    }
   ],
   "source": [
    "num_classes = 10\n",
    "num_epochs = 20\n",
    "batch_size = 16\n",
    "learning_rate = 0.01\n",
    "\n",
    "model = ResNet(ResidualBlock, [2, 2, 2, 2], num_classes).to(device)\n",
    "\n",
    "# Loss and optimizer\n",
    "criterion = nn.CrossEntropyLoss()\n",
    "optimizer = torch.optim.SGD(model.parameters(), lr=learning_rate, weight_decay = 0.001, momentum = 0.9)  \n",
    "\n",
    "# Train the model\n",
    "total_step = len(train_loader)\n",
    "\n",
    "import gc\n",
    "total_step = len(train_loader)\n",
    "\n",
    "for epoch in range(num_epochs):\n",
    "    for i, (images, labels) in enumerate(train_loader):  \n",
    "        # Move tensors to the configured device\n",
    "        images = images.to(device)\n",
    "        labels = labels.to(device)\n",
    "        \n",
    "        # Forward pass\n",
    "        outputs = model(images)\n",
    "        loss = criterion(outputs, labels)\n",
    "\n",
    "        # Backward and optimize\n",
    "        optimizer.zero_grad()\n",
    "        loss.backward()\n",
    "        optimizer.step()\n",
    "        del images, labels, outputs\n",
    "        torch.mps.empty_cache() if torch.backends.mps.is_available() else torch.cuda.empty_cache()\n",
    "        gc.collect()\n",
    "\n",
    "    print ('Epoch [{}/{}], Loss: {:.4f}' \n",
    "                    .format(epoch+1, num_epochs, loss.item()))\n",
    "                \n",
    "        # Validation\n",
    "    with torch.no_grad():\n",
    "        correct = 0\n",
    "        total = 0\n",
    "        for images, labels in valid_loader:\n",
    "            images = images.to(device)\n",
    "            labels = labels.to(device)\n",
    "            outputs = model(images)\n",
    "            _, predicted = torch.max(outputs.data, 1)\n",
    "            total += labels.size(0)\n",
    "            correct += (predicted == labels).sum().item()\n",
    "            del images, labels, outputs\n",
    "        \n",
    "        print('Accuracy of the network on the {} validation images: {} %'.format(5000, 100 * correct / total)) \n",
    "        \n",
    "with torch.no_grad():\n",
    "    correct = 0\n",
    "    total = 0\n",
    "    for images, labels in test_loader:\n",
    "        images = images.to(device)\n",
    "        labels = labels.to(device)\n",
    "        outputs = model(images)\n",
    "        _, predicted = torch.max(outputs.data, 1)\n",
    "        total += labels.size(0)\n",
    "        correct += (predicted == labels).sum().item()\n",
    "        del images, labels, outputs\n",
    "\n",
    "    print('Accuracy of the network on the {} test images: {} %'.format(10000, 100 * correct / total))"
   ]
  },
  {
   "cell_type": "code",
   "execution_count": 4,
   "metadata": {},
   "outputs": [],
   "source": [
    "torch.save(model.state_dict(), \"model/DadyNgoy.pth\")"
   ]
  },
  {
   "cell_type": "code",
   "execution_count": 5,
   "metadata": {},
   "outputs": [],
   "source": [
    "torch.save(model.state_dict(), \"model/DeLaPaz.pth\")"
   ]
  },
  {
   "cell_type": "code",
   "execution_count": null,
   "metadata": {},
   "outputs": [],
   "source": []
  }
 ],
 "metadata": {
  "kernelspec": {
   "display_name": "Python 3",
   "language": "python",
   "name": "python3"
  },
  "language_info": {
   "codemirror_mode": {
    "name": "ipython",
    "version": 3
   },
   "file_extension": ".py",
   "mimetype": "text/x-python",
   "name": "python",
   "nbconvert_exporter": "python",
   "pygments_lexer": "ipython3",
   "version": "3.10.14"
  }
 },
 "nbformat": 4,
 "nbformat_minor": 2
}
