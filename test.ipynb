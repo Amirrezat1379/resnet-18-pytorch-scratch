{
 "cells": [
  {
   "cell_type": "code",
   "execution_count": 1,
   "metadata": {},
   "outputs": [
    {
     "name": "stdout",
     "output_type": "stream",
     "text": [
      "Setting RESNET-18 device as mps\n"
     ]
    }
   ],
   "source": [
    "from resnet18 import ResNet, ResidualBlock, data_loader\n",
    "import numpy as np\n",
    "import torch\n",
    "import torch.nn as nn\n",
    "import torch.backends\n",
    "import torch.backends.mps\n",
    "import torch.mps\n",
    "from tqdm import tqdm"
   ]
  },
  {
   "cell_type": "code",
   "execution_count": 2,
   "metadata": {},
   "outputs": [
    {
     "name": "stdout",
     "output_type": "stream",
     "text": [
      "60000\n",
      "Setting TEST device as mps\n"
     ]
    }
   ],
   "source": [
    "train_loader, valid_loader = data_loader(data_dir='./data',\n",
    "                                         batch_size=64)\n",
    "\n",
    "test_loader = data_loader(data_dir='./data',\n",
    "                              batch_size=64,\n",
    "                              test=True)\n",
    "\n",
    "if torch.backends.mps.is_available():\n",
    "    device = \"mps\"\n",
    "elif torch.cuda.is_available():\n",
    "    device = \"cuda\"\n",
    "else:\n",
    "    device = \"cpu\"\n",
    "\n",
    "print(f\"Setting TEST device as {device}\")\n",
    "\n",
    "device = torch.device(device)"
   ]
  },
  {
   "cell_type": "code",
   "execution_count": 12,
   "metadata": {},
   "outputs": [
    {
     "name": "stdout",
     "output_type": "stream",
     "text": [
      "938\n",
      "Epoch 1 ================\n"
     ]
    },
    {
     "name": "stderr",
     "output_type": "stream",
     "text": [
      "844it [01:15, 11.25it/s, avg_loss=tensor(0.1403, device='mps:0', grad_fn=<DivBackward0>), avg_accuracy=61.3]                       \n"
     ]
    },
    {
     "name": "stdout",
     "output_type": "stream",
     "text": [
      "Epoch [1/20], Loss: 0.2261\n",
      "Epoch 1: Accuracy = 95.71%\n",
      "Accuracy of the network on the 5000 validation images: 98.13333333333334 %\n",
      "Epoch 2 ================\n"
     ]
    },
    {
     "name": "stderr",
     "output_type": "stream",
     "text": [
      "844it [01:14, 11.28it/s, avg_loss=tensor(0.0667, device='mps:0', grad_fn=<DivBackward0>), avg_accuracy=62.7]                       \n"
     ]
    },
    {
     "name": "stdout",
     "output_type": "stream",
     "text": [
      "Epoch [2/20], Loss: 0.0085\n",
      "Epoch 2: Accuracy = 97.91%\n",
      "Accuracy of the network on the 5000 validation images: 98.76666666666667 %\n",
      "Epoch 3 ================\n"
     ]
    },
    {
     "name": "stderr",
     "output_type": "stream",
     "text": [
      "844it [01:15, 11.25it/s, avg_loss=tensor(0.0320, device='mps:0', grad_fn=<DivBackward0>), avg_accuracy=63.4]                       \n"
     ]
    },
    {
     "name": "stdout",
     "output_type": "stream",
     "text": [
      "Epoch [3/20], Loss: 0.0419\n",
      "Epoch 3: Accuracy = 98.99%\n",
      "Accuracy of the network on the 5000 validation images: 98.88333333333334 %\n",
      "Epoch 4 ================\n"
     ]
    },
    {
     "name": "stderr",
     "output_type": "stream",
     "text": [
      "844it [01:15, 11.24it/s, avg_loss=tensor(0.0262, device='mps:0', grad_fn=<DivBackward0>), avg_accuracy=63.5]                       \n"
     ]
    },
    {
     "name": "stdout",
     "output_type": "stream",
     "text": [
      "Epoch [4/20], Loss: 0.0011\n",
      "Epoch 4: Accuracy = 99.16%\n",
      "Accuracy of the network on the 5000 validation images: 99.01666666666667 %\n",
      "Epoch 5 ================\n"
     ]
    },
    {
     "name": "stderr",
     "output_type": "stream",
     "text": [
      "844it [01:14, 11.28it/s, avg_loss=tensor(0.0217, device='mps:0', grad_fn=<DivBackward0>), avg_accuracy=63.6]                       \n"
     ]
    },
    {
     "name": "stdout",
     "output_type": "stream",
     "text": [
      "Epoch [5/20], Loss: 0.0223\n",
      "Epoch 5: Accuracy = 99.34%\n",
      "Accuracy of the network on the 5000 validation images: 98.53333333333333 %\n",
      "Epoch 6 ================\n"
     ]
    },
    {
     "name": "stderr",
     "output_type": "stream",
     "text": [
      "844it [01:14, 11.34it/s, avg_loss=tensor(0.0197, device='mps:0', grad_fn=<DivBackward0>), avg_accuracy=63.6]                       \n"
     ]
    },
    {
     "name": "stdout",
     "output_type": "stream",
     "text": [
      "Epoch [6/20], Loss: 0.0106\n",
      "Epoch 6: Accuracy = 99.36%\n",
      "Accuracy of the network on the 5000 validation images: 98.65 %\n",
      "Epoch 7 ================\n"
     ]
    },
    {
     "name": "stderr",
     "output_type": "stream",
     "text": [
      "844it [01:14, 11.28it/s, avg_loss=tensor(0.0183, device='mps:0', grad_fn=<DivBackward0>), avg_accuracy=63.6]                       \n"
     ]
    },
    {
     "name": "stdout",
     "output_type": "stream",
     "text": [
      "Epoch [7/20], Loss: 0.0055\n",
      "Epoch 7: Accuracy = 99.40%\n",
      "Accuracy of the network on the 5000 validation images: 98.98333333333333 %\n",
      "Epoch 8 ================\n"
     ]
    },
    {
     "name": "stderr",
     "output_type": "stream",
     "text": [
      "844it [01:15, 11.16it/s, avg_loss=tensor(0.0189, device='mps:0', grad_fn=<DivBackward0>), avg_accuracy=63.6]                       \n"
     ]
    },
    {
     "name": "stdout",
     "output_type": "stream",
     "text": [
      "Epoch [8/20], Loss: 0.0604\n",
      "Epoch 8: Accuracy = 99.38%\n",
      "Accuracy of the network on the 5000 validation images: 98.6 %\n",
      "Epoch 9 ================\n"
     ]
    },
    {
     "name": "stderr",
     "output_type": "stream",
     "text": [
      "844it [01:14, 11.25it/s, avg_loss=tensor(0.0171, device='mps:0', grad_fn=<DivBackward0>), avg_accuracy=63.7]                       \n"
     ]
    },
    {
     "name": "stdout",
     "output_type": "stream",
     "text": [
      "Epoch [9/20], Loss: 0.0030\n",
      "Epoch 9: Accuracy = 99.51%\n",
      "Accuracy of the network on the 5000 validation images: 99.06666666666666 %\n",
      "Epoch 10 ================\n"
     ]
    },
    {
     "name": "stderr",
     "output_type": "stream",
     "text": [
      "844it [01:15, 11.23it/s, avg_loss=tensor(0.0181, device='mps:0', grad_fn=<DivBackward0>), avg_accuracy=63.6]                       \n"
     ]
    },
    {
     "name": "stdout",
     "output_type": "stream",
     "text": [
      "Epoch [10/20], Loss: 0.0012\n",
      "Epoch 10: Accuracy = 99.43%\n",
      "Accuracy of the network on the 5000 validation images: 98.95 %\n",
      "Epoch 11 ================\n"
     ]
    },
    {
     "name": "stderr",
     "output_type": "stream",
     "text": [
      "844it [01:15, 11.23it/s, avg_loss=tensor(0.0174, device='mps:0', grad_fn=<DivBackward0>), avg_accuracy=63.7]                       \n"
     ]
    },
    {
     "name": "stdout",
     "output_type": "stream",
     "text": [
      "Epoch [11/20], Loss: 0.0137\n",
      "Epoch 11: Accuracy = 99.49%\n",
      "Accuracy of the network on the 5000 validation images: 98.78333333333333 %\n",
      "Epoch 12 ================\n"
     ]
    },
    {
     "name": "stderr",
     "output_type": "stream",
     "text": [
      "844it [01:15, 11.25it/s, avg_loss=tensor(0.0183, device='mps:0', grad_fn=<DivBackward0>), avg_accuracy=63.6]                       \n"
     ]
    },
    {
     "name": "stdout",
     "output_type": "stream",
     "text": [
      "Epoch [12/20], Loss: 0.0219\n",
      "Epoch 12: Accuracy = 99.45%\n",
      "Accuracy of the network on the 5000 validation images: 99.13333333333334 %\n",
      "Epoch 13 ================\n"
     ]
    },
    {
     "name": "stderr",
     "output_type": "stream",
     "text": [
      "844it [01:14, 11.35it/s, avg_loss=tensor(0.0172, device='mps:0', grad_fn=<DivBackward0>), avg_accuracy=63.7]                       \n"
     ]
    },
    {
     "name": "stdout",
     "output_type": "stream",
     "text": [
      "Epoch [13/20], Loss: 0.0121\n",
      "Epoch 13: Accuracy = 99.52%\n",
      "Accuracy of the network on the 5000 validation images: 98.76666666666667 %\n",
      "Epoch 14 ================\n"
     ]
    },
    {
     "name": "stderr",
     "output_type": "stream",
     "text": [
      "844it [01:15, 11.18it/s, avg_loss=tensor(0.0176, device='mps:0', grad_fn=<DivBackward0>), avg_accuracy=63.7]                       \n"
     ]
    },
    {
     "name": "stdout",
     "output_type": "stream",
     "text": [
      "Epoch [14/20], Loss: 0.0091\n",
      "Epoch 14: Accuracy = 99.49%\n",
      "Accuracy of the network on the 5000 validation images: 98.91666666666667 %\n",
      "Epoch 15 ================\n"
     ]
    },
    {
     "name": "stderr",
     "output_type": "stream",
     "text": [
      "844it [01:15, 11.14it/s, avg_loss=tensor(0.0173, device='mps:0', grad_fn=<DivBackward0>), avg_accuracy=63.7]                       \n"
     ]
    },
    {
     "name": "stdout",
     "output_type": "stream",
     "text": [
      "Epoch [15/20], Loss: 0.0095\n",
      "Epoch 15: Accuracy = 99.48%\n",
      "Accuracy of the network on the 5000 validation images: 99.05 %\n",
      "Epoch 16 ================\n"
     ]
    },
    {
     "name": "stderr",
     "output_type": "stream",
     "text": [
      "844it [01:15, 11.16it/s, avg_loss=tensor(0.0164, device='mps:0', grad_fn=<DivBackward0>), avg_accuracy=63.7]                       \n"
     ]
    },
    {
     "name": "stdout",
     "output_type": "stream",
     "text": [
      "Epoch [16/20], Loss: 0.0033\n",
      "Epoch 16: Accuracy = 99.53%\n",
      "Accuracy of the network on the 5000 validation images: 99.01666666666667 %\n",
      "Epoch 17 ================\n"
     ]
    },
    {
     "name": "stderr",
     "output_type": "stream",
     "text": [
      "844it [01:15, 11.20it/s, avg_loss=tensor(0.0170, device='mps:0', grad_fn=<DivBackward0>), avg_accuracy=63.7]                       \n"
     ]
    },
    {
     "name": "stdout",
     "output_type": "stream",
     "text": [
      "Epoch [17/20], Loss: 0.0327\n",
      "Epoch 17: Accuracy = 99.50%\n",
      "Accuracy of the network on the 5000 validation images: 98.96666666666667 %\n",
      "Epoch 18 ================\n"
     ]
    },
    {
     "name": "stderr",
     "output_type": "stream",
     "text": [
      "844it [01:15, 11.17it/s, avg_loss=tensor(0.0173, device='mps:0', grad_fn=<DivBackward0>), avg_accuracy=63.7]                       \n"
     ]
    },
    {
     "name": "stdout",
     "output_type": "stream",
     "text": [
      "Epoch [18/20], Loss: 0.0155\n",
      "Epoch 18: Accuracy = 99.48%\n",
      "Accuracy of the network on the 5000 validation images: 99.08333333333333 %\n",
      "Epoch 19 ================\n"
     ]
    },
    {
     "name": "stderr",
     "output_type": "stream",
     "text": [
      "844it [01:15, 11.13it/s, avg_loss=tensor(0.0161, device='mps:0', grad_fn=<DivBackward0>), avg_accuracy=63.7]                       \n"
     ]
    },
    {
     "name": "stdout",
     "output_type": "stream",
     "text": [
      "Epoch [19/20], Loss: 0.0086\n",
      "Epoch 19: Accuracy = 99.54%\n",
      "Accuracy of the network on the 5000 validation images: 99.01666666666667 %\n",
      "Epoch 20 ================\n"
     ]
    },
    {
     "name": "stderr",
     "output_type": "stream",
     "text": [
      "844it [01:14, 11.26it/s, avg_loss=tensor(0.0156, device='mps:0', grad_fn=<DivBackward0>), avg_accuracy=63.7]                       \n"
     ]
    },
    {
     "name": "stdout",
     "output_type": "stream",
     "text": [
      "Epoch [20/20], Loss: 0.0307\n",
      "Epoch 20: Accuracy = 99.55%\n",
      "Accuracy of the network on the 5000 validation images: 98.91666666666667 %\n"
     ]
    },
    {
     "ename": "AttributeError",
     "evalue": "'list' object has no attribute 'data'",
     "output_type": "error",
     "traceback": [
      "\u001b[0;31m---------------------------------------------------------------------------\u001b[0m",
      "\u001b[0;31mAttributeError\u001b[0m                            Traceback (most recent call last)",
      "Cell \u001b[0;32mIn[12], line 87\u001b[0m\n\u001b[1;32m     85\u001b[0m labels \u001b[38;5;241m=\u001b[39m labels\u001b[38;5;241m.\u001b[39mto(device)\n\u001b[1;32m     86\u001b[0m outputs \u001b[38;5;241m=\u001b[39m model(images)\n\u001b[0;32m---> 87\u001b[0m _, predicted \u001b[38;5;241m=\u001b[39m torch\u001b[38;5;241m.\u001b[39mmax(\u001b[43moutputs\u001b[49m\u001b[38;5;241;43m.\u001b[39;49m\u001b[43mdata\u001b[49m, \u001b[38;5;241m1\u001b[39m)\n\u001b[1;32m     88\u001b[0m total \u001b[38;5;241m+\u001b[39m\u001b[38;5;241m=\u001b[39m labels\u001b[38;5;241m.\u001b[39msize(\u001b[38;5;241m0\u001b[39m)\n\u001b[1;32m     89\u001b[0m correct \u001b[38;5;241m+\u001b[39m\u001b[38;5;241m=\u001b[39m (predicted \u001b[38;5;241m==\u001b[39m labels)\u001b[38;5;241m.\u001b[39msum()\u001b[38;5;241m.\u001b[39mitem()\n",
      "\u001b[0;31mAttributeError\u001b[0m: 'list' object has no attribute 'data'"
     ]
    }
   ],
   "source": [
    "num_classes = 10\n",
    "num_epochs = 20\n",
    "# batch_size = 16\n",
    "learning_rate = 0.01\n",
    "\n",
    "model = ResNet().to(device)\n",
    "model.requires_grad_ = True\n",
    "# model = ResNet()\n",
    "model.make_backbone(ResidualBlock, [2, 2, 2, 2], [1, 3], num_classes)\n",
    "\n",
    "# Loss and optimizer\n",
    "criterion = nn.CrossEntropyLoss()\n",
    "optimizer = torch.optim.SGD(model.parameters(), lr=learning_rate, weight_decay = 0.001, momentum = 0.9)  \n",
    "\n",
    "# Train the model\n",
    "# total_step = len(train_loader)\n",
    "print(len(train_loader) + len(valid_loader))\n",
    "\n",
    "import gc\n",
    "total_step = len(train_loader)\n",
    "for epoch in range(num_epochs):\n",
    "    print(f\"Epoch {epoch+1} ================\")\n",
    "    # n_batch = (n_sample - 1) // batch_size + 1\n",
    "    # model.train()\n",
    "    total_sample = 0\n",
    "    total_loss = total_accuracy = 0\n",
    "    with tqdm(total=64) as dadyNgoy:\n",
    "        for i, (images, labels) in enumerate(train_loader): \n",
    "            # print(i) \n",
    "            # Move tensors to the configured device\n",
    "            images = images.to(device)\n",
    "            labels = labels.to(device)\n",
    "            \n",
    "            # Forward pass\n",
    "            outputs = model(images)\n",
    "            _, predicted = torch.max(outputs[-1].data, 1)\n",
    "            loss = criterion(outputs[-1], labels)\n",
    "            total_accuracy += (predicted == labels).sum().item()\n",
    "            total_loss += loss\n",
    "            total_sample += labels.size(0)\n",
    "\n",
    "            # Backward and optimize\n",
    "            optimizer.zero_grad()\n",
    "            loss.backward()\n",
    "            optimizer.step()\n",
    "            del images, labels, outputs\n",
    "            torch.mps.empty_cache() if torch.backends.mps.is_available() else torch.cuda.empty_cache()\n",
    "            gc.collect()\n",
    "\n",
    "            if (i + 1) % 3 == 0 or i + 1 == 64:\n",
    "                dadyNgoy.set_postfix({\n",
    "                            'avg_loss': total_loss / (i + 1),\n",
    "                            'avg_accuracy': total_accuracy / (i + 1),\n",
    "                            # 'max_abs_gradient': np.max(abs(model.weight.grad))\n",
    "                        })\n",
    "                cur_n_batch = i % 3 + 1\n",
    "                dadyNgoy.update(cur_n_batch)\n",
    "\n",
    "    print ('Epoch [{}/{}], Loss: {:.4f}' .format(epoch+1, num_epochs, loss.item()))\n",
    "    accuracy = 100 * total_accuracy / total_sample\n",
    "    print(f'Epoch {epoch+1}: Accuracy = {accuracy:.2f}%')\n",
    "        \n",
    "    model.eval()\n",
    "                \n",
    "        # Validation\n",
    "    with torch.no_grad():\n",
    "        correct = 0\n",
    "        total = 0\n",
    "        for images, labels in valid_loader:\n",
    "            images = images.to(device)\n",
    "            labels = labels.to(device)\n",
    "            outputs = model(images)\n",
    "            _, predicted = torch.max(outputs[-1].data, 1)\n",
    "            total += labels.size(0)\n",
    "            correct += (predicted == labels).sum().item()\n",
    "            del images, labels, outputs\n",
    "        \n",
    "        print('Accuracy of the network on the {} validation images: {} %'.format(5000, 100 * correct / total)) "
   ]
  },
  {
   "cell_type": "code",
   "execution_count": null,
   "metadata": {},
   "outputs": [],
   "source": [
    "with torch.no_grad():\n",
    "    correct = 0\n",
    "    total = 0\n",
    "    for images, labels in test_loader:\n",
    "        images = images.to(device)\n",
    "        labels = labels.to(device)\n",
    "        outputs = model(images)\n",
    "        _, predicted = torch.max(outputs[-1].data, 1)\n",
    "        total += labels.size(0)\n",
    "        correct += (predicted == labels).sum().item()\n",
    "        del images, labels, outputs\n",
    "\n",
    "    print('Accuracy of the network on the {} test images: {} %'.format(10000, 100 * correct / total))"
   ]
  },
  {
   "cell_type": "code",
   "execution_count": 3,
   "metadata": {},
   "outputs": [
    {
     "ename": "NameError",
     "evalue": "name 'torch' is not defined",
     "output_type": "error",
     "traceback": [
      "\u001b[0;31m---------------------------------------------------------------------------\u001b[0m",
      "\u001b[0;31mNameError\u001b[0m                                 Traceback (most recent call last)",
      "Cell \u001b[0;32mIn[3], line 1\u001b[0m\n\u001b[0;32m----> 1\u001b[0m \u001b[43mtorch\u001b[49m\u001b[38;5;241m.\u001b[39msave(model\u001b[38;5;241m.\u001b[39mstate_dict(), \u001b[38;5;124m\"\u001b[39m\u001b[38;5;124mmodel/Model for Inference.pth\u001b[39m\u001b[38;5;124m\"\u001b[39m)\n",
      "\u001b[0;31mNameError\u001b[0m: name 'torch' is not defined"
     ]
    }
   ],
   "source": [
    "torch.save(model.state_dict(), \"model/Model for Inference.pth\")"
   ]
  }
 ],
 "metadata": {
  "kernelspec": {
   "display_name": "Python 3",
   "language": "python",
   "name": "python3"
  },
  "language_info": {
   "codemirror_mode": {
    "name": "ipython",
    "version": 3
   },
   "file_extension": ".py",
   "mimetype": "text/x-python",
   "name": "python",
   "nbconvert_exporter": "python",
   "pygments_lexer": "ipython3",
   "version": "3.10.14"
  }
 },
 "nbformat": 4,
 "nbformat_minor": 2
}
