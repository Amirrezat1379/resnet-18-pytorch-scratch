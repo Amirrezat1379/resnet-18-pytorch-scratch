{
 "cells": [
  {
   "cell_type": "code",
   "execution_count": 1,
   "metadata": {},
   "outputs": [
    {
     "name": "stdout",
     "output_type": "stream",
     "text": [
      "Setting RESNET-18 device as mps\n"
     ]
    }
   ],
   "source": [
    "from EEResnet18 import ResNet, ResidualBlock, data_loader\n",
    "import numpy as np\n",
    "import torch\n",
    "import torch.nn as nn\n",
    "import torch.backends\n",
    "import torch.backends.mps\n",
    "import torch.mps\n",
    "from tqdm import tqdm"
   ]
  },
  {
   "cell_type": "code",
   "execution_count": 2,
   "metadata": {},
   "outputs": [
    {
     "name": "stdout",
     "output_type": "stream",
     "text": [
      "Files already downloaded and verified\n",
      "Files already downloaded and verified\n",
      "50000\n",
      "Files already downloaded and verified\n",
      "Setting TEST device as mps\n"
     ]
    }
   ],
   "source": [
    "train_loader, valid_loader = data_loader(data_dir='./data',\n",
    "                                         batch_size=64, data_model=\"cifar100\")\n",
    "\n",
    "test_loader = data_loader(data_dir='./data',\n",
    "                              batch_size=64,\n",
    "                              test=True, data_model=\"cifar100\")\n",
    "\n",
    "if torch.backends.mps.is_available():\n",
    "    device = \"mps\"\n",
    "elif torch.cuda.is_available():\n",
    "    device = \"cuda\"\n",
    "else:\n",
    "    device = \"cpu\"\n",
    "\n",
    "print(f\"Setting TEST device as {device}\")\n",
    "\n",
    "device = torch.device(device)"
   ]
  },
  {
   "cell_type": "code",
   "execution_count": 3,
   "metadata": {},
   "outputs": [
    {
     "name": "stdout",
     "output_type": "stream",
     "text": [
      "783\n",
      "Epoch 1 ================\n"
     ]
    },
    {
     "name": "stderr",
     "output_type": "stream",
     "text": [
      "703it [01:05, 10.66it/s, avg_loss=tensor(3.6181, device='mps:0', grad_fn=<DivBackward0>), avg_accuracy=9.38]                       \n"
     ]
    },
    {
     "name": "stdout",
     "output_type": "stream",
     "text": [
      "Epoch [1/20], Loss: 3.6505\n",
      "Epoch 1: Accuracy = 14.65%\n",
      "Accuracy of the network on the 5000 validation images: 21.24 %\n",
      "Epoch 2 ================\n"
     ]
    },
    {
     "name": "stderr",
     "output_type": "stream",
     "text": [
      "703it [01:02, 11.20it/s, avg_loss=tensor(2.9950, device='mps:0', grad_fn=<DivBackward0>), avg_accuracy=16.3]                       \n"
     ]
    },
    {
     "name": "stdout",
     "output_type": "stream",
     "text": [
      "Epoch [2/20], Loss: 3.7281\n",
      "Epoch 2: Accuracy = 25.43%\n",
      "Accuracy of the network on the 5000 validation images: 28.72 %\n",
      "Epoch 3 ================\n"
     ]
    },
    {
     "name": "stderr",
     "output_type": "stream",
     "text": [
      "703it [01:02, 11.23it/s, avg_loss=tensor(2.6331, device='mps:0', grad_fn=<DivBackward0>), avg_accuracy=21]                         \n"
     ]
    },
    {
     "name": "stdout",
     "output_type": "stream",
     "text": [
      "Epoch [3/20], Loss: 1.9296\n",
      "Epoch 3: Accuracy = 32.79%\n",
      "Accuracy of the network on the 5000 validation images: 33.0 %\n",
      "Epoch 4 ================\n"
     ]
    },
    {
     "name": "stderr",
     "output_type": "stream",
     "text": [
      "703it [01:03, 11.03it/s, avg_loss=tensor(2.3700, device='mps:0', grad_fn=<DivBackward0>), avg_accuracy=24.3]                       \n"
     ]
    },
    {
     "name": "stdout",
     "output_type": "stream",
     "text": [
      "Epoch [4/20], Loss: 2.6384\n",
      "Epoch 4: Accuracy = 38.04%\n",
      "Accuracy of the network on the 5000 validation images: 33.96 %\n",
      "Epoch 5 ================\n"
     ]
    },
    {
     "name": "stderr",
     "output_type": "stream",
     "text": [
      "703it [01:02, 11.31it/s, avg_loss=tensor(2.1592, device='mps:0', grad_fn=<DivBackward0>), avg_accuracy=27.1]                       \n"
     ]
    },
    {
     "name": "stdout",
     "output_type": "stream",
     "text": [
      "Epoch [5/20], Loss: 2.0811\n",
      "Epoch 5: Accuracy = 42.35%\n",
      "Accuracy of the network on the 5000 validation images: 37.36 %\n",
      "Epoch 6 ================\n"
     ]
    },
    {
     "name": "stderr",
     "output_type": "stream",
     "text": [
      "703it [01:02, 11.27it/s, avg_loss=tensor(1.9673, device='mps:0', grad_fn=<DivBackward0>), avg_accuracy=30.1]                       \n"
     ]
    },
    {
     "name": "stdout",
     "output_type": "stream",
     "text": [
      "Epoch [6/20], Loss: 1.3132\n",
      "Epoch 6: Accuracy = 47.02%\n",
      "Accuracy of the network on the 5000 validation images: 38.56 %\n",
      "Epoch 7 ================\n"
     ]
    },
    {
     "name": "stderr",
     "output_type": "stream",
     "text": [
      "703it [01:02, 11.22it/s, avg_loss=tensor(1.7993, device='mps:0', grad_fn=<DivBackward0>), avg_accuracy=32.4]                       \n"
     ]
    },
    {
     "name": "stdout",
     "output_type": "stream",
     "text": [
      "Epoch [7/20], Loss: 0.7203\n",
      "Epoch 7: Accuracy = 50.71%\n",
      "Accuracy of the network on the 5000 validation images: 38.54 %\n",
      "Epoch 8 ================\n"
     ]
    },
    {
     "name": "stderr",
     "output_type": "stream",
     "text": [
      "703it [01:02, 11.21it/s, avg_loss=tensor(1.6361, device='mps:0', grad_fn=<DivBackward0>), avg_accuracy=34.8]                       \n"
     ]
    },
    {
     "name": "stdout",
     "output_type": "stream",
     "text": [
      "Epoch [8/20], Loss: 1.6903\n",
      "Epoch 8: Accuracy = 54.42%\n",
      "Accuracy of the network on the 5000 validation images: 39.24 %\n",
      "Epoch 9 ================\n"
     ]
    },
    {
     "name": "stderr",
     "output_type": "stream",
     "text": [
      "703it [01:02, 11.23it/s, avg_loss=tensor(1.4978, device='mps:0', grad_fn=<DivBackward0>), avg_accuracy=36.9]                       \n"
     ]
    },
    {
     "name": "stdout",
     "output_type": "stream",
     "text": [
      "Epoch [9/20], Loss: 1.3979\n",
      "Epoch 9: Accuracy = 57.63%\n",
      "Accuracy of the network on the 5000 validation images: 39.38 %\n",
      "Epoch 10 ================\n"
     ]
    },
    {
     "name": "stderr",
     "output_type": "stream",
     "text": [
      "703it [01:03, 10.99it/s, avg_loss=tensor(1.3734, device='mps:0', grad_fn=<DivBackward0>), avg_accuracy=38.9]                       \n"
     ]
    },
    {
     "name": "stdout",
     "output_type": "stream",
     "text": [
      "Epoch [10/20], Loss: 2.1365\n",
      "Epoch 10: Accuracy = 60.72%\n",
      "Accuracy of the network on the 5000 validation images: 40.46 %\n",
      "Epoch 11 ================\n"
     ]
    },
    {
     "name": "stderr",
     "output_type": "stream",
     "text": [
      "703it [01:02, 11.20it/s, avg_loss=tensor(1.2457, device='mps:0', grad_fn=<DivBackward0>), avg_accuracy=40.7]                       \n"
     ]
    },
    {
     "name": "stdout",
     "output_type": "stream",
     "text": [
      "Epoch [11/20], Loss: 1.8185\n",
      "Epoch 11: Accuracy = 63.66%\n",
      "Accuracy of the network on the 5000 validation images: 40.48 %\n",
      "Epoch 12 ================\n"
     ]
    },
    {
     "name": "stderr",
     "output_type": "stream",
     "text": [
      "703it [01:02, 11.22it/s, avg_loss=tensor(1.1289, device='mps:0', grad_fn=<DivBackward0>), avg_accuracy=42.6]                       \n"
     ]
    },
    {
     "name": "stdout",
     "output_type": "stream",
     "text": [
      "Epoch [12/20], Loss: 0.9880\n",
      "Epoch 12: Accuracy = 66.63%\n",
      "Accuracy of the network on the 5000 validation images: 39.78 %\n",
      "Epoch 13 ================\n"
     ]
    },
    {
     "name": "stderr",
     "output_type": "stream",
     "text": [
      "703it [01:02, 11.20it/s, avg_loss=tensor(1.0276, device='mps:0', grad_fn=<DivBackward0>), avg_accuracy=44.4]                       \n"
     ]
    },
    {
     "name": "stdout",
     "output_type": "stream",
     "text": [
      "Epoch [13/20], Loss: 0.9280\n",
      "Epoch 13: Accuracy = 69.29%\n",
      "Accuracy of the network on the 5000 validation images: 39.08 %\n",
      "Epoch 14 ================\n"
     ]
    },
    {
     "name": "stderr",
     "output_type": "stream",
     "text": [
      "703it [01:02, 11.23it/s, avg_loss=tensor(0.9398, device='mps:0', grad_fn=<DivBackward0>), avg_accuracy=45.8]                       \n"
     ]
    },
    {
     "name": "stdout",
     "output_type": "stream",
     "text": [
      "Epoch [14/20], Loss: 2.5828\n",
      "Epoch 14: Accuracy = 71.54%\n",
      "Accuracy of the network on the 5000 validation images: 38.98 %\n",
      "Epoch 15 ================\n"
     ]
    },
    {
     "name": "stderr",
     "output_type": "stream",
     "text": [
      "703it [01:03, 11.05it/s, avg_loss=tensor(0.8811, device='mps:0', grad_fn=<DivBackward0>), avg_accuracy=46.7]                       \n"
     ]
    },
    {
     "name": "stdout",
     "output_type": "stream",
     "text": [
      "Epoch [15/20], Loss: 1.1778\n",
      "Epoch 15: Accuracy = 73.03%\n",
      "Accuracy of the network on the 5000 validation images: 39.28 %\n",
      "Epoch 16 ================\n"
     ]
    },
    {
     "name": "stderr",
     "output_type": "stream",
     "text": [
      "703it [01:03, 11.05it/s, avg_loss=tensor(0.7852, device='mps:0', grad_fn=<DivBackward0>), avg_accuracy=48.5]                       \n"
     ]
    },
    {
     "name": "stdout",
     "output_type": "stream",
     "text": [
      "Epoch [16/20], Loss: 1.0696\n",
      "Epoch 16: Accuracy = 75.76%\n",
      "Accuracy of the network on the 5000 validation images: 38.54 %\n",
      "Epoch 17 ================\n"
     ]
    },
    {
     "name": "stderr",
     "output_type": "stream",
     "text": [
      "703it [01:03, 11.05it/s, avg_loss=tensor(0.7272, device='mps:0', grad_fn=<DivBackward0>), avg_accuracy=49.6]                       \n"
     ]
    },
    {
     "name": "stdout",
     "output_type": "stream",
     "text": [
      "Epoch [17/20], Loss: 1.3890\n",
      "Epoch 17: Accuracy = 77.42%\n",
      "Accuracy of the network on the 5000 validation images: 38.06 %\n",
      "Epoch 18 ================\n"
     ]
    },
    {
     "name": "stderr",
     "output_type": "stream",
     "text": [
      "703it [01:03, 11.11it/s, avg_loss=tensor(0.7034, device='mps:0', grad_fn=<DivBackward0>), avg_accuracy=49.9]                       \n"
     ]
    },
    {
     "name": "stdout",
     "output_type": "stream",
     "text": [
      "Epoch [18/20], Loss: 1.5064\n",
      "Epoch 18: Accuracy = 77.88%\n",
      "Accuracy of the network on the 5000 validation images: 37.54 %\n",
      "Epoch 19 ================\n"
     ]
    },
    {
     "name": "stderr",
     "output_type": "stream",
     "text": [
      "703it [01:03, 11.11it/s, avg_loss=tensor(0.6356, device='mps:0', grad_fn=<DivBackward0>), avg_accuracy=51.2]                       \n"
     ]
    },
    {
     "name": "stdout",
     "output_type": "stream",
     "text": [
      "Epoch [19/20], Loss: 1.2744\n",
      "Epoch 19: Accuracy = 80.03%\n",
      "Accuracy of the network on the 5000 validation images: 38.26 %\n",
      "Epoch 20 ================\n"
     ]
    },
    {
     "name": "stderr",
     "output_type": "stream",
     "text": [
      "703it [01:03, 11.15it/s, avg_loss=tensor(0.5830, device='mps:0', grad_fn=<DivBackward0>), avg_accuracy=52.3]                       \n"
     ]
    },
    {
     "name": "stdout",
     "output_type": "stream",
     "text": [
      "Epoch [20/20], Loss: 0.1021\n",
      "Epoch 20: Accuracy = 81.67%\n",
      "Accuracy of the network on the 5000 validation images: 39.18 %\n"
     ]
    }
   ],
   "source": [
    "num_classes = 10\n",
    "num_epochs = 20\n",
    "# batch_size = 16\n",
    "learning_rate = 0.01\n",
    "\n",
    "model = ResNet().to(device)\n",
    "model.requires_grad_ = True\n",
    "# model = ResNet()\n",
    "model.make_backbone(ResidualBlock, [2, 2, 2, 2], [1, 3], num_classes)\n",
    "\n",
    "# Loss and optimizer\n",
    "criterion = nn.CrossEntropyLoss()\n",
    "optimizer = torch.optim.SGD(model.parameters(), lr=learning_rate, weight_decay = 0.001, momentum = 0.9)  \n",
    "# optimizer = torch.optim.Adam(model.parameters(), lr=learning_rate, weight_decay = 0.001)  \n",
    "\n",
    "# Train the model\n",
    "# total_step = len(train_loader)\n",
    "print(len(train_loader) + len(valid_loader))\n",
    "\n",
    "import gc\n",
    "total_step = len(train_loader)\n",
    "for epoch in range(num_epochs):\n",
    "    print(f\"Epoch {epoch+1} ================\")\n",
    "    # n_batch = (n_sample - 1) // batch_size + 1\n",
    "    # model.train()\n",
    "    total_sample = 0\n",
    "    total_loss = total_accuracy = 0\n",
    "    with tqdm(total=64) as dadyNgoy:\n",
    "        for i, (images, labels) in enumerate(train_loader): \n",
    "            # print(i) \n",
    "            # Move tensors to the configured device\n",
    "            images = images.to(device)\n",
    "            labels = labels.to(device)\n",
    "            \n",
    "            # Forward pass\n",
    "            outputs = model(images)\n",
    "            _, predicted = torch.max(outputs[-1].data, 1)\n",
    "            loss = criterion(outputs[-1], labels)\n",
    "            total_accuracy += (predicted == labels).sum().item()\n",
    "            total_loss += loss\n",
    "            total_sample += labels.size(0)\n",
    "\n",
    "            # Backward and optimize\n",
    "            optimizer.zero_grad()\n",
    "            loss.backward()\n",
    "            optimizer.step()\n",
    "            del images, labels, outputs\n",
    "            torch.mps.empty_cache() if torch.backends.mps.is_available() else torch.cuda.empty_cache()\n",
    "            gc.collect()\n",
    "\n",
    "            if (i + 1) % 3 == 0 or i + 1 == 64:\n",
    "                dadyNgoy.set_postfix({\n",
    "                            'avg_loss': total_loss / (i + 1),\n",
    "                            'avg_accuracy': total_accuracy / (i + 1),\n",
    "                            # 'max_abs_gradient': np.max(abs(model.weight.grad))\n",
    "                        })\n",
    "                cur_n_batch = i % 3 + 1\n",
    "                dadyNgoy.update(cur_n_batch)\n",
    "\n",
    "    print ('Epoch [{}/{}], Loss: {:.4f}' .format(epoch+1, num_epochs, loss.item()))\n",
    "    accuracy = 100 * total_accuracy / total_sample\n",
    "    print(f'Epoch {epoch+1}: Accuracy = {accuracy:.2f}%')\n",
    "        \n",
    "    model.eval()\n",
    "                \n",
    "        # Validation\n",
    "    with torch.no_grad():\n",
    "        correct = 0\n",
    "        total = 0\n",
    "        for images, labels in valid_loader:\n",
    "            images = images.to(device)\n",
    "            labels = labels.to(device)\n",
    "            outputs = model(images)\n",
    "            _, predicted = torch.max(outputs[-1].data, 1)\n",
    "            total += labels.size(0)\n",
    "            correct += (predicted == labels).sum().item()\n",
    "            del images, labels, outputs\n",
    "        \n",
    "        print('Accuracy of the network on the {} validation images: {} %'.format(5000, 100 * correct / total)) "
   ]
  },
  {
   "cell_type": "code",
   "execution_count": 4,
   "metadata": {},
   "outputs": [
    {
     "name": "stdout",
     "output_type": "stream",
     "text": [
      "Accuracy of the network on the 10000 test images: 72.57 %\n"
     ]
    }
   ],
   "source": [
    "with torch.no_grad():\n",
    "    correct = 0\n",
    "    total = 0\n",
    "    for images, labels in test_loader:\n",
    "        images = images.to(device)\n",
    "        labels = labels.to(device)\n",
    "        outputs = model(images)\n",
    "        _, predicted = torch.max(outputs[-1].data, 1)\n",
    "        total += labels.size(0)\n",
    "        correct += (predicted == labels).sum().item()\n",
    "        del images, labels, outputs\n",
    "\n",
    "    print('Accuracy of the network on the {} test images: {} %'.format(10000, 100 * correct / total))"
   ]
  },
  {
   "cell_type": "code",
   "execution_count": 5,
   "metadata": {},
   "outputs": [],
   "source": [
    "torch.save(model.state_dict(), \"model/RESNET_18-CIFAR_100-SGD-Early_Exits_in_1st_and_3rd_layer-MPS.pth\")"
   ]
  }
 ],
 "metadata": {
  "kernelspec": {
   "display_name": "Python 3",
   "language": "python",
   "name": "python3"
  },
  "language_info": {
   "codemirror_mode": {
    "name": "ipython",
    "version": 3
   },
   "file_extension": ".py",
   "mimetype": "text/x-python",
   "name": "python",
   "nbconvert_exporter": "python",
   "pygments_lexer": "ipython3",
   "version": "3.10.14"
  }
 },
 "nbformat": 4,
 "nbformat_minor": 2
}
